{
 "cells": [
  {
   "cell_type": "markdown",
   "metadata": {},
   "source": [
    "# Customer Satisfaction Analysis\n",
    "This notebook demonstrates the analysis of customer satisfaction based on engagement and experience metrics."
   ]
  },
  {
   "cell_type": "code",
   "execution_count": 1,
   "metadata": {},
   "outputs": [],
   "source": [
    "import pandas as pd\n",
    "import numpy as np\n",
    "import matplotlib.pyplot as plt\n",
    "import seaborn as sns\n",
    "from sqlalchemy import create_engine\n",
    "from dotenv import load_dotenv\n",
    "import os\n",
    "import sys\n",
    "sys.path.append('../src')\n",
    "from database import get_db_connection\n",
    "from engagement_analysis import get_user_engagement_metrics, perform_kmeans_clustering\n",
    "from satisfaction_analysis import *\n",
    "\n",
    "# Load environment variables\n",
    "load_dotenv()\n",
    "\n",
    "sns.set_palette('husl')"
   ]
  },
  {
   "cell_type": "markdown",
   "metadata": {},
   "source": [
    "## 1. Load and Prepare Data"
   ]
  },
  {
   "cell_type": "code",
   "execution_count": 2,
   "metadata": {},
   "outputs": [
    {
     "name": "stderr",
     "output_type": "stream",
     "text": [
      "c:\\Users\\hp\\Documents\\telleco_week2\\notebooks\\../src\\engagement_analysis.py:29: UserWarning: pandas only supports SQLAlchemy connectable (engine/connection) or database string URI or sqlite3 DBAPI2 connection. Other DBAPI2 objects are not tested. Please consider using SQLAlchemy.\n",
      "  return pd.read_sql_query(query, connection)\n"
     ]
    }
   ],
   "source": [
    "# Get database connection using the existing function\n",
    "connection = get_db_connection()\n",
    "\n",
    "# Create SQLAlchemy engine from the connection\n",
    "engine = create_engine('postgresql://', creator=lambda: connection)\n",
    "\n",
    "# Get user engagement metrics\n",
    "df = get_user_engagement_metrics(connection)\n",
    "\n",
    "# Define features for clustering\n",
    "features = ['session_frequency', 'total_duration', 'total_traffic',\n",
    "            'social_media_usage', 'google_usage', 'email_usage',\n",
    "            'youtube_usage', 'netflix_usage', 'gaming_usage', 'other_usage']\n",
    "\n",
    "# Perform initial clustering\n",
    "df_clustered, cluster_stats, kmeans_model, X_scaled = perform_kmeans_clustering(df, features, n_clusters=3)"
   ]
  },
  {
   "cell_type": "markdown",
   "metadata": {},
   "source": [
    "## 2. Calculate Engagement and Experience Scores"
   ]
  },
  {
   "cell_type": "code",
   "execution_count": 3,
   "metadata": {},
   "outputs": [],
   "source": [
    "# Calculate engagement scores\n",
    "engagement_scores = calculate_engagement_score(df, kmeans_model, X_scaled)\n",
    "\n",
    "# Calculate experience scores\n",
    "experience_scores = calculate_experience_score(df, kmeans_model, X_scaled)\n",
    "\n",
    "# Calculate satisfaction scores\n",
    "satisfaction_scores = calculate_satisfaction_score(engagement_scores, experience_scores)\n",
    "\n",
    "# Add scores to dataframe\n",
    "df['engagement_score'] = engagement_scores\n",
    "df['experience_score'] = experience_scores\n",
    "df['satisfaction_score'] = satisfaction_scores"
   ]
  },
  {
   "cell_type": "markdown",
   "metadata": {},
   "source": [
    "## 3. Top 10 Satisfied Customers"
   ]
  },
  {
   "cell_type": "code",
   "execution_count": 4,
   "metadata": {},
   "outputs": [
    {
     "name": "stdout",
     "output_type": "stream",
     "text": [
      "Top 10 Satisfied Customers:\n"
     ]
    },
    {
     "data": {
      "text/html": [
       "<div>\n",
       "<style scoped>\n",
       "    .dataframe tbody tr th:only-of-type {\n",
       "        vertical-align: middle;\n",
       "    }\n",
       "\n",
       "    .dataframe tbody tr th {\n",
       "        vertical-align: top;\n",
       "    }\n",
       "\n",
       "    .dataframe thead th {\n",
       "        text-align: right;\n",
       "    }\n",
       "</style>\n",
       "<table border=\"1\" class=\"dataframe\">\n",
       "  <thead>\n",
       "    <tr style=\"text-align: right;\">\n",
       "      <th></th>\n",
       "      <th>msisdn</th>\n",
       "      <th>satisfaction_score</th>\n",
       "    </tr>\n",
       "  </thead>\n",
       "  <tbody>\n",
       "    <tr>\n",
       "      <th>106856</th>\n",
       "      <td>NaN</td>\n",
       "      <td>1.000000</td>\n",
       "    </tr>\n",
       "    <tr>\n",
       "      <th>13180</th>\n",
       "      <td>3.362578e+10</td>\n",
       "      <td>0.066993</td>\n",
       "    </tr>\n",
       "    <tr>\n",
       "      <th>6437</th>\n",
       "      <td>3.361489e+10</td>\n",
       "      <td>0.037760</td>\n",
       "    </tr>\n",
       "    <tr>\n",
       "      <th>92923</th>\n",
       "      <td>3.376054e+10</td>\n",
       "      <td>0.035228</td>\n",
       "    </tr>\n",
       "    <tr>\n",
       "      <th>13526</th>\n",
       "      <td>3.362632e+10</td>\n",
       "      <td>0.034356</td>\n",
       "    </tr>\n",
       "    <tr>\n",
       "      <th>65118</th>\n",
       "      <td>3.366716e+10</td>\n",
       "      <td>0.032307</td>\n",
       "    </tr>\n",
       "    <tr>\n",
       "      <th>50281</th>\n",
       "      <td>3.366284e+10</td>\n",
       "      <td>0.024014</td>\n",
       "    </tr>\n",
       "    <tr>\n",
       "      <th>666</th>\n",
       "      <td>3.360313e+10</td>\n",
       "      <td>0.023852</td>\n",
       "    </tr>\n",
       "    <tr>\n",
       "      <th>57160</th>\n",
       "      <td>3.366469e+10</td>\n",
       "      <td>0.023286</td>\n",
       "    </tr>\n",
       "    <tr>\n",
       "      <th>92577</th>\n",
       "      <td>3.376041e+10</td>\n",
       "      <td>0.021014</td>\n",
       "    </tr>\n",
       "  </tbody>\n",
       "</table>\n",
       "</div>"
      ],
      "text/plain": [
       "              msisdn  satisfaction_score\n",
       "106856           NaN            1.000000\n",
       "13180   3.362578e+10            0.066993\n",
       "6437    3.361489e+10            0.037760\n",
       "92923   3.376054e+10            0.035228\n",
       "13526   3.362632e+10            0.034356\n",
       "65118   3.366716e+10            0.032307\n",
       "50281   3.366284e+10            0.024014\n",
       "666     3.360313e+10            0.023852\n",
       "57160   3.366469e+10            0.023286\n",
       "92577   3.376041e+10            0.021014"
      ]
     },
     "metadata": {},
     "output_type": "display_data"
    }
   ],
   "source": [
    "top_satisfied = get_top_satisfied_customers(df, satisfaction_scores)\n",
    "print(\"Top 10 Satisfied Customers:\")\n",
    "display(top_satisfied)"
   ]
  },
  {
   "cell_type": "markdown",
   "metadata": {},
   "source": [
    "## 4. Satisfaction Score Prediction Model"
   ]
  },
  {
   "cell_type": "code",
   "execution_count": 5,
   "metadata": {},
   "outputs": [
    {
     "name": "stdout",
     "output_type": "stream",
     "text": [
      "Model Performance:\n",
      "Mean Squared Error: 0.0000\n",
      "R-squared Score: 0.8524\n"
     ]
    },
    {
     "data": {
      "image/png": "[encoded data removed]",
      "text/plain": [
       "<Figure size 1000x600 with 1 Axes>"
      ]
     },
     "metadata": {},
     "output_type": "display_data"
    }
   ],
   "source": [
    "# Build regression model\n",
    "model, mse, r2 = build_satisfaction_regression_model(df, features, 'satisfaction_score')\n",
    "\n",
    "print(f\"Model Performance:\")\n",
    "print(f\"Mean Squared Error: {mse:.4f}\")\n",
    "print(f\"R-squared Score: {r2:.4f}\")\n",
    "\n",
    "# Plot feature importance\n",
    "feature_importance = pd.DataFrame({\n",
    "    'feature': features,\n",
    "    'importance': abs(model.coef_)\n",
    "}).sort_values('importance', ascending=False)\n",
    "\n",
    "plt.figure(figsize=(10, 6))\n",
    "sns.barplot(x='importance', y='feature', data=feature_importance)\n",
    "plt.title('Feature Importance for Satisfaction Score')\n",
    "plt.show()"
   ]
  },
  {
   "cell_type": "markdown",
   "metadata": {},
   "source": [
    "## 5. Clustering Analysis"
   ]
  },
  {
   "cell_type": "code",
   "execution_count": 6,
   "metadata": {},
   "outputs": [
    {
     "name": "stdout",
     "output_type": "stream",
     "text": [
      "Cluster Statistics:\n"
     ]
    },
    {
     "data": {
      "text/html": [
       "<div>\n",
       "<style scoped>\n",
       "    .dataframe tbody tr th:only-of-type {\n",
       "        vertical-align: middle;\n",
       "    }\n",
       "\n",
       "    .dataframe tbody tr th {\n",
       "        vertical-align: top;\n",
       "    }\n",
       "\n",
       "    .dataframe thead tr th {\n",
       "        text-align: left;\n",
       "    }\n",
       "\n",
       "    .dataframe thead tr:last-of-type th {\n",
       "        text-align: right;\n",
       "    }\n",
       "</style>\n",
       "<table border=\"1\" class=\"dataframe\">\n",
       "  <thead>\n",
       "    <tr>\n",
       "      <th></th>\n",
       "      <th colspan=\"3\" halign=\"left\">satisfaction_score</th>\n",
       "      <th colspan=\"2\" halign=\"left\">experience_score</th>\n",
       "    </tr>\n",
       "    <tr>\n",
       "      <th></th>\n",
       "      <th>mean</th>\n",
       "      <th>std</th>\n",
       "      <th>count</th>\n",
       "      <th>mean</th>\n",
       "      <th>std</th>\n",
       "    </tr>\n",
       "    <tr>\n",
       "      <th>cluster</th>\n",
       "      <th></th>\n",
       "      <th></th>\n",
       "      <th></th>\n",
       "      <th></th>\n",
       "      <th></th>\n",
       "    </tr>\n",
       "  </thead>\n",
       "  <tbody>\n",
       "    <tr>\n",
       "      <th>0</th>\n",
       "      <td>0.00065</td>\n",
       "      <td>0.000811</td>\n",
       "      <td>106856</td>\n",
       "      <td>0.00065</td>\n",
       "      <td>0.000811</td>\n",
       "    </tr>\n",
       "    <tr>\n",
       "      <th>1</th>\n",
       "      <td>1.00000</td>\n",
       "      <td>NaN</td>\n",
       "      <td>1</td>\n",
       "      <td>1.00000</td>\n",
       "      <td>NaN</td>\n",
       "    </tr>\n",
       "  </tbody>\n",
       "</table>\n",
       "</div>"
      ],
      "text/plain": [
       "        satisfaction_score                   experience_score          \n",
       "                      mean       std   count             mean       std\n",
       "cluster                                                                \n",
       "0                  0.00065  0.000811  106856          0.00065  0.000811\n",
       "1                  1.00000       NaN       1          1.00000       NaN"
      ]
     },
     "metadata": {},
     "output_type": "display_data"
    },
    {
     "data": {
      "image/png": "[encoded data removed]",
      "text/plain": [
       "<Figure size 1000x600 with 1 Axes>"
      ]
     },
     "metadata": {},
     "output_type": "display_data"
    }
   ],
   "source": [
    "# Perform k-means clustering on satisfaction and experience scores\n",
    "df_clustered, cluster_stats = cluster_satisfaction_experience(df, engagement_scores, experience_scores)\n",
    "\n",
    "print(\"Cluster Statistics:\")\n",
    "display(cluster_stats)\n",
    "\n",
    "# Visualize clusters\n",
    "plt.figure(figsize=(10, 6))\n",
    "sns.scatterplot(data=df_clustered, x='engagement_score', y='experience_score', hue='cluster')\n",
    "plt.title('Customer Clusters based on Engagement and Experience Scores')\n",
    "plt.show()"
   ]
  },
  {
   "cell_type": "markdown",
   "metadata": {},
   "source": [
    "## 6. Export Results to PostgreSQL"
   ]
  },
  {
   "cell_type": "code",
   "execution_count": 7,
   "metadata": {},
   "outputs": [
    {
     "name": "stdout",
     "output_type": "stream",
     "text": [
      "Sample of exported data:\n"
     ]
    },
    {
     "name": "stderr",
     "output_type": "stream",
     "text": [
      "C:\\Users\\hp\\AppData\\Local\\Temp\\ipykernel_12752\\1758355561.py:6: UserWarning: pandas only supports SQLAlchemy connectable (engine/connection) or database string URI or sqlite3 DBAPI2 connection. Other DBAPI2 objects are not tested. Please consider using SQLAlchemy.\n",
      "  result = pd.read_sql_query(query, connection)\n"
     ]
    },
    {
     "data": {
      "text/html": [
       "<div>\n",
       "<style scoped>\n",
       "    .dataframe tbody tr th:only-of-type {\n",
       "        vertical-align: middle;\n",
       "    }\n",
       "\n",
       "    .dataframe tbody tr th {\n",
       "        vertical-align: top;\n",
       "    }\n",
       "\n",
       "    .dataframe thead th {\n",
       "        text-align: right;\n",
       "    }\n",
       "</style>\n",
       "<table border=\"1\" class=\"dataframe\">\n",
       "  <thead>\n",
       "    <tr style=\"text-align: right;\">\n",
       "      <th></th>\n",
       "      <th>msisdn</th>\n",
       "      <th>engagement_score</th>\n",
       "      <th>experience_score</th>\n",
       "      <th>satisfaction_score</th>\n",
       "      <th>cluster</th>\n",
       "    </tr>\n",
       "  </thead>\n",
       "  <tbody>\n",
       "    <tr>\n",
       "      <th>0</th>\n",
       "      <td>NaN</td>\n",
       "      <td>1.000000</td>\n",
       "      <td>1.000000</td>\n",
       "      <td>1.000000</td>\n",
       "      <td>1</td>\n",
       "    </tr>\n",
       "    <tr>\n",
       "      <th>1</th>\n",
       "      <td>3.362578e+10</td>\n",
       "      <td>0.066993</td>\n",
       "      <td>0.066993</td>\n",
       "      <td>0.066993</td>\n",
       "      <td>0</td>\n",
       "    </tr>\n",
       "    <tr>\n",
       "      <th>2</th>\n",
       "      <td>3.361489e+10</td>\n",
       "      <td>0.037760</td>\n",
       "      <td>0.037760</td>\n",
       "      <td>0.037760</td>\n",
       "      <td>0</td>\n",
       "    </tr>\n",
       "    <tr>\n",
       "      <th>3</th>\n",
       "      <td>3.376054e+10</td>\n",
       "      <td>0.035228</td>\n",
       "      <td>0.035228</td>\n",
       "      <td>0.035228</td>\n",
       "      <td>0</td>\n",
       "    </tr>\n",
       "    <tr>\n",
       "      <th>4</th>\n",
       "      <td>3.362632e+10</td>\n",
       "      <td>0.034356</td>\n",
       "      <td>0.034356</td>\n",
       "      <td>0.034356</td>\n",
       "      <td>0</td>\n",
       "    </tr>\n",
       "  </tbody>\n",
       "</table>\n",
       "</div>"
      ],
      "text/plain": [
       "         msisdn  engagement_score  experience_score  satisfaction_score  \\\n",
       "0           NaN          1.000000          1.000000            1.000000   \n",
       "1  3.362578e+10          0.066993          0.066993            0.066993   \n",
       "2  3.361489e+10          0.037760          0.037760            0.037760   \n",
       "3  3.376054e+10          0.035228          0.035228            0.035228   \n",
       "4  3.362632e+10          0.034356          0.034356            0.034356   \n",
       "\n",
       "   cluster  \n",
       "0        1  \n",
       "1        0  \n",
       "2        0  \n",
       "3        0  \n",
       "4        0  "
      ]
     },
     "metadata": {},
     "output_type": "display_data"
    }
   ],
   "source": [
    "# Export results to PostgreSQL\n",
    "export_to_postgres(df_clustered, connection)\n",
    "\n",
    "# Verify the export using pandas read_sql_query\n",
    "query = \"SELECT * FROM user_satisfaction ORDER BY satisfaction_score DESC LIMIT 5\"\n",
    "result = pd.read_sql_query(query, connection)\n",
    "print(\"Sample of exported data:\")\n",
    "display(result)"
   ]
  }
 ],
 "metadata": {
  "kernelspec": {
   "display_name": "venv",
   "language": "python",
   "name": "python3"
  },
  "language_info": {
   "name": "python",
   "version": "3.12.6"
  }
 },
 "nbformat": 4,
 "nbformat_minor": 2
}
